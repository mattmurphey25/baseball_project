{
 "cells": [
  {
   "cell_type": "code",
   "execution_count": 78,
   "metadata": {},
   "outputs": [],
   "source": [
    "# Dependencies\n",
    "import pandas as pd\n",
    "import numpy as np"
   ]
  },
  {
   "cell_type": "code",
   "execution_count": 79,
   "metadata": {},
   "outputs": [],
   "source": [
    "# Import Dependencies\n",
    "import sqlalchemy\n",
    "from sqlalchemy.ext.declarative import declarative_base\n",
    "Base = declarative_base()\n",
    "from sqlalchemy import Column, Integer, String, Float, DateTime, Text, ForeignKey\n",
    "from sqlalchemy import create_engine, MetaData\n",
    "from sqlalchemy.orm import sessionmaker"
   ]
  },
  {
   "cell_type": "code",
   "execution_count": 80,
   "metadata": {},
   "outputs": [],
   "source": [
    "# Read CSVs\n",
    "team_id = \"COL\"\n",
    "draft_df = pd.read_csv(f\"Resources/complete_{team_id}_drafts.csv\")"
   ]
  },
  {
   "cell_type": "code",
   "execution_count": 81,
   "metadata": {},
   "outputs": [],
   "source": [
    "engine = create_engine(f\"sqlite:///{team_id}_drafts.sqlite\")\n",
    "conn = engine.connect()"
   ]
  },
  {
   "cell_type": "code",
   "execution_count": 82,
   "metadata": {},
   "outputs": [],
   "source": [
    "class Draft(Base):\n",
    "    __tablename__ = 'draft'\n",
    "    index = Column(Integer, primary_key=True)\n",
    "    Year = Column(Integer())\n",
    "    Rnd = Column(Integer())\n",
    "    OvPck = Column(Integer())\n",
    "    RdPck = Column(Integer())\n",
    "    Tm = Column(String(10))\n",
    "    Signed = Column(String(2))\n",
    "    Name = Column(String(50))\n",
    "    Pos = Column(String(10))\n",
    "    WAR = Column(Float)\n",
    "    GB = Column(Integer()) \n",
    "    AB = Column(Integer())\n",
    "    HR = Column(Integer())\n",
    "    BA = Column(Float)\n",
    "    OPS = Column(Float)\n",
    "    GP = Column(Integer())\n",
    "    W = Column(Integer())\n",
    "    L = Column(Integer())\n",
    "    ERA = Column(Float)\n",
    "    WHIP = Column(Float)\n",
    "    SV = Column(Integer())\n",
    "    Type = Column(String(7))\n",
    "    school = Column(String(50))\n",
    "    town = Column(String(20))\n",
    "    ST = Column(String(5))"
   ]
  },
  {
   "cell_type": "code",
   "execution_count": 83,
   "metadata": {},
   "outputs": [],
   "source": [
    "Base.metadata.create_all(engine)"
   ]
  },
  {
   "cell_type": "code",
   "execution_count": 84,
   "metadata": {},
   "outputs": [],
   "source": [
    "draft_data = draft_df.to_dict(orient=\"records\")"
   ]
  },
  {
   "cell_type": "code",
   "execution_count": 85,
   "metadata": {},
   "outputs": [],
   "source": [
    "# Use MetaData from SQLAlchemy to reflect the tables\n",
    "metadata = sqlalchemy.schema.MetaData(bind=engine)\n",
    "metadata.reflect()"
   ]
  },
  {
   "cell_type": "code",
   "execution_count": 86,
   "metadata": {},
   "outputs": [
    {
     "data": {
      "text/plain": [
       "<sqlalchemy.engine.result.ResultProxy at 0x19f8bafb8d0>"
      ]
     },
     "execution_count": 86,
     "metadata": {},
     "output_type": "execute_result"
    }
   ],
   "source": [
    "draft_table = sqlalchemy.Table('draft', metadata, autoload=True)\n",
    "\n",
    "conn.execute(draft_table.delete())\n",
    "\n",
    "conn.execute(draft_table.insert(), draft_data)"
   ]
  },
  {
   "cell_type": "code",
   "execution_count": 87,
   "metadata": {},
   "outputs": [
    {
     "data": {
      "text/plain": [
       "['draft']"
      ]
     },
     "execution_count": 87,
     "metadata": {},
     "output_type": "execute_result"
    }
   ],
   "source": [
    "engine.table_names()"
   ]
  },
  {
   "cell_type": "code",
   "execution_count": 88,
   "metadata": {},
   "outputs": [
    {
     "data": {
      "text/plain": [
       "[(1, 1992, 1, 27, 27, 'Rockies', 'Y', 'John Burke\\xa0(minors)', 'RHP', -0.5, None, 21, 0, 0.19, 0.381, None, 4, 6, 6.75, 1.83, 0, '4Yr', 'University of Florida ', 'Gainesville', 'FL'),\n",
       " (2, 1992, 2, 65, 27, 'Rockies', 'Y', 'Mark Thompson\\xa0(minors)', 'RHP', 0.0, None, 104, 1, 0.154, 0.383, None, 18, 24, 5.74, 1.68, 0, '4Yr', 'University of Kentucky ', 'Lexington', 'KY'),\n",
       " (3, 1992, 3, 95, 27, 'Rockies', 'Y', 'Roger Bailey\\xa0(minors)', 'RHP', 5.2, None, 97, 1, 0.206, 0.52, None, 18, 19, 4.9, 1.55, 1, '4Yr', 'Florida State University ', 'Tallahassee', 'FL'),\n",
       " (4, 1992, 4, 123, 27, 'Rockies', 'Y', 'Lloyd Peever\\xa0(minors)', 'RHP', 0.0, None, 0, 0, 0.0, 0.0, None, 0, 0, 0.0, 0.0, 0, '4Yr', 'Louisiana State University ', 'Baton Rouge', 'LA'),\n",
       " (5, 1992, 5, 151, 27, 'Rockies', 'Y', 'Ryan Freeburg\\xa0(minors)', '3B', 0.0, None, 0, 0, 0.0, 0.0, None, 0, 0, 0.0, 0.0, 0, '4Yr', 'Grand Canyon University ', 'Phoenix', 'AZ'),\n",
       " (6, 1992, 6, 179, 27, 'Rockies', 'Y', 'Will Scalzitti\\xa0(minors)', 'C', 0.0, None, 0, 0, 0.0, 0.0, None, 0, 0, 0.0, 0.0, 0, 'JC', 'Miami-Dade College ', 'Miami', 'FL'),\n",
       " (7, 1992, 7, 207, 27, 'Rockies', 'Y', 'Jason Bates\\xa0(minors)', 'SS', -2.6, None, 677, 12, 0.239, 0.696, None, 0, 0, 0.0, 0.0, 0, '4Yr', 'University of Arizona ', 'Tucson', 'AZ'),\n",
       " (8, 1992, 8, 235, 27, 'Rockies', 'Y', 'Chris Henderson\\xa0(minors)', 'RHP', 0.0, None, 0, 0, 0.0, 0.0, None, 0, 0, 0.0, 0.0, 0, 'JC', 'Eastern Florida State College ', 'Cocoa', 'FL'),\n",
       " (9, 1992, 9, 263, 27, 'Rockies', 'Y', 'Mike Eiffert\\xa0(minors)', 'LHP', 0.0, None, 0, 0, 0.0, 0.0, None, 0, 0, 0.0, 0.0, 0, '4Yr', 'University of Texas Pan American ', 'Edinburg', 'TX'),\n",
       " (10, 1992, 10, 291, 27, 'Rockies', 'Y', 'Garvin Alston\\xa0(minors)', 'RHP', -0.1, None, 1, 0, 0.0, 0.0, None, 1, 0, 9.0, 2.0, 0, '4Yr', 'Florida International University ', 'Miami', 'FL')]"
      ]
     },
     "execution_count": 88,
     "metadata": {},
     "output_type": "execute_result"
    }
   ],
   "source": [
    "engine.execute(\"select * from draft limit 10\").fetchall()"
   ]
  },
  {
   "cell_type": "code",
   "execution_count": null,
   "metadata": {},
   "outputs": [],
   "source": []
  }
 ],
 "metadata": {
  "kernelspec": {
   "display_name": "Python [conda env:PythonData]",
   "language": "python",
   "name": "conda-env-PythonData-py"
  },
  "language_info": {
   "codemirror_mode": {
    "name": "ipython",
    "version": 3
   },
   "file_extension": ".py",
   "mimetype": "text/x-python",
   "name": "python",
   "nbconvert_exporter": "python",
   "pygments_lexer": "ipython3",
   "version": "3.6.4"
  }
 },
 "nbformat": 4,
 "nbformat_minor": 2
}
