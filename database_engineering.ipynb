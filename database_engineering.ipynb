{
 "cells": [
  {
   "cell_type": "code",
   "execution_count": 322,
   "metadata": {},
   "outputs": [],
   "source": [
    "# Dependencies\n",
    "import pandas as pd\n",
    "import numpy as np"
   ]
  },
  {
   "cell_type": "code",
   "execution_count": 323,
   "metadata": {},
   "outputs": [],
   "source": [
    "# Import Dependencies\n",
    "import sqlalchemy\n",
    "from sqlalchemy.ext.declarative import declarative_base\n",
    "Base = declarative_base()\n",
    "from sqlalchemy import Column, Integer, String, Float, DateTime, Text, ForeignKey\n",
    "from sqlalchemy import create_engine, MetaData\n",
    "from sqlalchemy.orm import sessionmaker"
   ]
  },
  {
   "cell_type": "code",
   "execution_count": 324,
   "metadata": {},
   "outputs": [],
   "source": [
    "# Read CSVs\n",
    "team_id = \"WSN\"\n",
    "draft_df = pd.read_csv(f\"Resources/complete_{team_id}_drafts.csv\")"
   ]
  },
  {
   "cell_type": "code",
   "execution_count": 325,
   "metadata": {},
   "outputs": [],
   "source": [
    "engine = create_engine(f\"sqlite:///draft.sqlite\")\n",
    "conn = engine.connect()"
   ]
  },
  {
   "cell_type": "code",
   "execution_count": 326,
   "metadata": {},
   "outputs": [],
   "source": [
    "class Draft(Base):\n",
    "    __tablename__ = f\"{team_id}\"\n",
    "    index = Column(Integer, primary_key=True)\n",
    "    Year = Column(Integer())\n",
    "    Rnd = Column(Integer())\n",
    "    OvPck = Column(Integer())\n",
    "    RdPck = Column(Integer())\n",
    "    Tm = Column(String(10))\n",
    "    Signed = Column(String(2))\n",
    "    Name = Column(String(50))\n",
    "    Pos = Column(String(10))\n",
    "    WAR = Column(Float)\n",
    "    GB = Column(Integer()) \n",
    "    AB = Column(Integer())\n",
    "    HR = Column(Integer())\n",
    "    BA = Column(Float)\n",
    "    OPS = Column(Float)\n",
    "    GP = Column(Integer())\n",
    "    W = Column(Integer())\n",
    "    L = Column(Integer())\n",
    "    ERA = Column(Float)\n",
    "    WHIP = Column(Float)\n",
    "    SV = Column(Integer())\n",
    "    Type = Column(String(7))\n",
    "    school = Column(String(50))\n",
    "    town = Column(String(20))\n",
    "    ST = Column(String(5))"
   ]
  },
  {
   "cell_type": "code",
   "execution_count": 327,
   "metadata": {},
   "outputs": [],
   "source": [
    "Base.metadata.create_all(engine)"
   ]
  },
  {
   "cell_type": "code",
   "execution_count": 328,
   "metadata": {},
   "outputs": [],
   "source": [
    "draft_data = draft_df.to_dict(orient=\"records\")"
   ]
  },
  {
   "cell_type": "code",
   "execution_count": 329,
   "metadata": {},
   "outputs": [],
   "source": [
    "# Use MetaData from SQLAlchemy to reflect the tables\n",
    "metadata = sqlalchemy.schema.MetaData(bind=engine)\n",
    "metadata.reflect()"
   ]
  },
  {
   "cell_type": "code",
   "execution_count": 330,
   "metadata": {},
   "outputs": [
    {
     "data": {
      "text/plain": [
       "<sqlalchemy.engine.result.ResultProxy at 0x1fa1c7cda58>"
      ]
     },
     "execution_count": 330,
     "metadata": {},
     "output_type": "execute_result"
    }
   ],
   "source": [
    "draft_table = sqlalchemy.Table(f\"{team_id}\", metadata, autoload=True)\n",
    "\n",
    "conn.execute(draft_table.delete())\n",
    "\n",
    "conn.execute(draft_table.insert(), draft_data)"
   ]
  },
  {
   "cell_type": "code",
   "execution_count": 331,
   "metadata": {},
   "outputs": [
    {
     "data": {
      "text/plain": [
       "['ANA',\n",
       " 'ARI',\n",
       " 'ATL',\n",
       " 'BAL',\n",
       " 'BOS',\n",
       " 'CHC',\n",
       " 'CHW',\n",
       " 'CIN',\n",
       " 'CLE',\n",
       " 'COL',\n",
       " 'DET',\n",
       " 'FLA',\n",
       " 'HOU',\n",
       " 'KCR',\n",
       " 'LAD',\n",
       " 'MIL',\n",
       " 'MIN',\n",
       " 'NYM',\n",
       " 'NYY',\n",
       " 'OAK',\n",
       " 'PHI',\n",
       " 'PIT',\n",
       " 'SDP',\n",
       " 'SEA',\n",
       " 'SFG',\n",
       " 'STL',\n",
       " 'TBD',\n",
       " 'TEX',\n",
       " 'TOR',\n",
       " 'WSN']"
      ]
     },
     "execution_count": 331,
     "metadata": {},
     "output_type": "execute_result"
    }
   ],
   "source": [
    "engine.table_names()"
   ]
  },
  {
   "cell_type": "code",
   "execution_count": 332,
   "metadata": {},
   "outputs": [
    {
     "data": {
      "text/plain": [
       "[(1, 1968, 4, 81, 21, 'Nationals', 'Y', 'Michael Swain\\xa0(minors)', 'RHP', 0.0, None, 0, 0, 0.0, 0.0, None, 0, 0, 0.0, 0.0, 0, '4Yr', 'The Ohio State University ', 'Columbus', 'OH'),\n",
       " (2, 1968, 5, 105, 21, 'Nationals', 'Y', 'Frank Ward\\xa0(minors)', 'RHP', 0.0, None, 0, 0, 0.0, 0.0, None, 0, 0, 0.0, 0.0, 0, 'JC', 'Southern Polytechnic State University ', 'Marietta', 'GA'),\n",
       " (3, 1968, 6, 129, 21, 'Nationals', 'Y', 'Roger Nelson\\xa0(minors)', 'C', 0.0, None, 0, 0, 0.0, 0.0, None, 0, 0, 0.0, 0.0, 0, 'HS', 'Lincoln Southeast HS ', 'Lincoln', 'NE'),\n",
       " (4, 1968, 7, 153, 21, 'Nationals', 'Y', 'Kevin Bryant\\xa0(minors)', 'SS', 0.0, None, 0, 0, 0.0, 0.0, None, 0, 0, 0.0, 0.0, 0, 'HS', 'Winter Haven HS ', 'Winter Haven', 'FL'),\n",
       " (5, 1968, 8, 177, 21, 'Nationals', 'Y', 'William Kendall\\xa0(minors)', '3B', 0.0, None, 0, 0, 0.0, 0.0, None, 0, 0, 0.0, 0.0, 0, '4Yr', 'University of Minnesota ', 'Minneapolis', 'MN'),\n",
       " (6, 1968, 9, 201, 21, 'Nationals', 'Y', 'Ross Hoffman\\xa0(minors)', '1B', 0.0, None, 0, 0, 0.0, 0.0, None, 0, 0, 0.0, 0.0, 0, '4Yr', 'University of California, Los Angeles ', 'Los Angeles', 'CA'),\n",
       " (7, 1968, 10, 225, 21, 'Nationals', 'Y', 'Carlton Exum\\xa0(minors)', 'RHP', 0.0, None, 0, 0, 0.0, 0.0, None, 0, 0, 0.0, 0.0, 0, 'HS', 'Evans HS ', 'Orlando', 'FL'),\n",
       " (8, 1968, 11, 249, 21, 'Nationals', 'Y', 'Dave Hartman\\xa0(minors)', 'LHP', 0.0, None, 0, 0, 0.0, 0.0, None, 0, 0, 0.0, 0.0, 0, '4Yr', 'Iowa State University ', 'Ames', 'IA'),\n",
       " (9, 1968, 12, 273, 21, 'Nationals', 'Y', 'John Palmer\\xa0(minors)', 'LHP', 0.0, None, 0, 0, 0.0, 0.0, None, 0, 0, 0.0, 0.0, 0, '4Yr', 'University of Minnesota ', 'Minneapolis', 'MN'),\n",
       " (10, 1968, 13, 297, 21, 'Nationals', 'Y', 'Larry Woltz\\xa0(minors)', '3B', 0.0, None, 0, 0, 0.0, 0.0, None, 0, 0, 0.0, 0.0, 0, 'JC', 'Georgia Perimeter College ', 'Covington', 'GA')]"
      ]
     },
     "execution_count": 332,
     "metadata": {},
     "output_type": "execute_result"
    }
   ],
   "source": [
    "engine.execute(f\"select * from {team_id} limit 10\").fetchall()"
   ]
  },
  {
   "cell_type": "code",
   "execution_count": null,
   "metadata": {},
   "outputs": [],
   "source": []
  }
 ],
 "metadata": {
  "kernelspec": {
   "display_name": "Python [conda env:PythonData]",
   "language": "python",
   "name": "conda-env-PythonData-py"
  },
  "language_info": {
   "codemirror_mode": {
    "name": "ipython",
    "version": 3
   },
   "file_extension": ".py",
   "mimetype": "text/x-python",
   "name": "python",
   "nbconvert_exporter": "python",
   "pygments_lexer": "ipython3",
   "version": "3.6.4"
  }
 },
 "nbformat": 4,
 "nbformat_minor": 2
}
