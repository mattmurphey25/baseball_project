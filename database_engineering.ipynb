{
 "cells": [
  {
   "cell_type": "code",
   "execution_count": 254,
   "metadata": {},
   "outputs": [],
   "source": [
    "# Dependencies\n",
    "import pandas as pd\n",
    "import numpy as np"
   ]
  },
  {
   "cell_type": "code",
   "execution_count": 255,
   "metadata": {},
   "outputs": [],
   "source": [
    "# Import Dependencies\n",
    "import sqlalchemy\n",
    "from sqlalchemy.ext.declarative import declarative_base\n",
    "Base = declarative_base()\n",
    "from sqlalchemy import Column, Integer, String, Float, DateTime, Text, ForeignKey\n",
    "from sqlalchemy import create_engine, MetaData\n",
    "from sqlalchemy.orm import sessionmaker"
   ]
  },
  {
   "cell_type": "code",
   "execution_count": 256,
   "metadata": {},
   "outputs": [],
   "source": [
    "# Read CSVs\n",
    "team_id = \"ATL\"\n",
    "draft_df = pd.read_csv(f\"Resources/complete_{team_id}_drafts.csv\")"
   ]
  },
  {
   "cell_type": "code",
   "execution_count": 257,
   "metadata": {},
   "outputs": [],
   "source": [
    "engine = create_engine(f\"sqlite:///{team_id}_drafts.sqlite\")\n",
    "conn = engine.connect()"
   ]
  },
  {
   "cell_type": "code",
   "execution_count": 258,
   "metadata": {},
   "outputs": [],
   "source": [
    "class Draft(Base):\n",
    "    __tablename__ = 'draft'\n",
    "    index = Column(Integer, primary_key=True)\n",
    "    Year = Column(Integer())\n",
    "    Rnd = Column(Integer())\n",
    "    OvPck = Column(Integer())\n",
    "    RdPck = Column(Integer())\n",
    "    Tm = Column(String(10))\n",
    "    Signed = Column(String(2))\n",
    "    Name = Column(String(50))\n",
    "    Pos = Column(String(10))\n",
    "    WAR = Column(Float)\n",
    "    GB = Column(Integer()) \n",
    "    AB = Column(Integer())\n",
    "    HR = Column(Integer())\n",
    "    BA = Column(Float)\n",
    "    OPS = Column(Float)\n",
    "    GP = Column(Integer())\n",
    "    W = Column(Integer())\n",
    "    L = Column(Integer())\n",
    "    ERA = Column(Float)\n",
    "    WHIP = Column(Float)\n",
    "    SV = Column(Integer())\n",
    "    Type = Column(String(7))\n",
    "    school = Column(String(50))\n",
    "    town = Column(String(20))\n",
    "    ST = Column(String(5))"
   ]
  },
  {
   "cell_type": "code",
   "execution_count": 259,
   "metadata": {},
   "outputs": [],
   "source": [
    "Base.metadata.create_all(engine)"
   ]
  },
  {
   "cell_type": "code",
   "execution_count": 260,
   "metadata": {},
   "outputs": [],
   "source": [
    "draft_data = draft_df.to_dict(orient=\"records\")"
   ]
  },
  {
   "cell_type": "code",
   "execution_count": 261,
   "metadata": {},
   "outputs": [],
   "source": [
    "# Use MetaData from SQLAlchemy to reflect the tables\n",
    "metadata = sqlalchemy.schema.MetaData(bind=engine)\n",
    "metadata.reflect()"
   ]
  },
  {
   "cell_type": "code",
   "execution_count": 262,
   "metadata": {},
   "outputs": [
    {
     "data": {
      "text/plain": [
       "<sqlalchemy.engine.result.ResultProxy at 0x20e6b3025c0>"
      ]
     },
     "execution_count": 262,
     "metadata": {},
     "output_type": "execute_result"
    }
   ],
   "source": [
    "draft_table = sqlalchemy.Table('draft', metadata, autoload=True)\n",
    "\n",
    "conn.execute(draft_table.delete())\n",
    "\n",
    "conn.execute(draft_table.insert(), draft_data)"
   ]
  },
  {
   "cell_type": "code",
   "execution_count": 263,
   "metadata": {},
   "outputs": [
    {
     "data": {
      "text/plain": [
       "['draft']"
      ]
     },
     "execution_count": 263,
     "metadata": {},
     "output_type": "execute_result"
    }
   ],
   "source": [
    "engine.table_names()"
   ]
  },
  {
   "cell_type": "code",
   "execution_count": 264,
   "metadata": {},
   "outputs": [
    {
     "data": {
      "text/plain": [
       "[(1, 1965, 1, 12, 12, 'Braves', 'Y', 'Dick Grant\\xa0(minors)', '1B', 0.0, None, 0, 0, 0.0, 0.0, None, 0, 0, 0.0, 0.0, 0, 'HS', 'Watertown HS ', 'Watertown', 'MA'),\n",
       " (2, 1965, 2, 32, 12, 'Braves', 'Y', 'Donald Johnson\\xa0(minors)', 'C', 0.0, None, 0, 0, 0.0, 0.0, None, 0, 0, 0.0, 0.0, 0, '4Yr', 'University of Southern California ', 'Los Angeles', 'CA'),\n",
       " (3, 1965, 3, 52, 12, 'Braves', 'Y', 'Douglas King\\xa0(minors)', 'OF', 0.0, None, 0, 0, 0.0, 0.0, None, 0, 0, 0.0, 0.0, 0, 'HS', 'Northeastern HS ', 'Manchester', 'PA'),\n",
       " (4, 1965, 4, 64, 4, 'Braves', 'Y', 'Charlie Vaughan\\xa0(minors)', 'LHP', 0.2, None, 4, 0, 0.25, 0.5, None, 1, 0, 4.5, 1.88, 0, 'HS', 'Brownsville HS ', 'Brownsville', 'TX'),\n",
       " (5, 1965, 5, 84, 4, 'Braves', 'Y', 'William Bates\\xa0(minors)', 'RHP', 0.0, None, 0, 0, 0.0, 0.0, None, 0, 0, 0.0, 0.0, 0, '4Yr', 'Washington and Jefferson College ', 'Washington', 'PA'),\n",
       " (6, 1965, 6, 104, 4, 'Braves', 'Y', 'Wayne Garrett\\xa0(minors)', 'SS', 16.8, None, 3285, 61, 0.239, 0.691, None, 0, 0, 0.0, 0.0, 0, 'HS', 'Sarasota HS ', 'Sarasota', 'FL'),\n",
       " (7, 1965, 7, 124, 4, 'Braves', 'Y', 'Steven Godfrey\\xa0(minors)', 'SS', 0.0, None, 0, 0, 0.0, 0.0, None, 0, 0, 0.0, 0.0, 0, '0', '0', None, None),\n",
       " (8, 1965, 8, 169, 0, 'Braves', 'Y', 'Jefrey Albies\\xa0(minors)', '2B', 0.0, None, 0, 0, 0.0, 0.0, None, 0, 0, 0.0, 0.0, 0, '4Yr', 'Long Island University, Brooklyn Campus ', 'Brooklyn', 'NY'),\n",
       " (9, 1965, 9, 199, 0, 'Braves', 'Y', 'Albert Thompson\\xa0(minors)', 'OF', 0.0, None, 0, 0, 0.0, 0.0, None, 0, 0, 0.0, 0.0, 0, 'HS', 'Narbonne HS ', 'Harbor City', 'CA'),\n",
       " (10, 1965, 10, 229, 0, 'Braves', 'Y', 'Thomas Randecker\\xa0(minors)', 'RHP', 0.0, None, 0, 0, 0.0, 0.0, None, 0, 0, 0.0, 0.0, 0, '0', '0', None, None)]"
      ]
     },
     "execution_count": 264,
     "metadata": {},
     "output_type": "execute_result"
    }
   ],
   "source": [
    "engine.execute(\"select * from draft limit 10\").fetchall()"
   ]
  },
  {
   "cell_type": "code",
   "execution_count": null,
   "metadata": {},
   "outputs": [],
   "source": []
  }
 ],
 "metadata": {
  "kernelspec": {
   "display_name": "Python [conda env:PythonData]",
   "language": "python",
   "name": "conda-env-PythonData-py"
  },
  "language_info": {
   "codemirror_mode": {
    "name": "ipython",
    "version": 3
   },
   "file_extension": ".py",
   "mimetype": "text/x-python",
   "name": "python",
   "nbconvert_exporter": "python",
   "pygments_lexer": "ipython3",
   "version": "3.6.4"
  }
 },
 "nbformat": 4,
 "nbformat_minor": 2
}
